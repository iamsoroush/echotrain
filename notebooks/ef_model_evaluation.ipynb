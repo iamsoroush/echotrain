{
  "nbformat": 4,
  "nbformat_minor": 0,
  "metadata": {
    "colab": {
      "name": "ef_model_evaluation.ipynb",
      "provenance": [],
      "collapsed_sections": []
    },
    "kernelspec": {
      "display_name": "Python 3",
      "name": "python3"
    },
    "language_info": {
      "name": "python"
    }
  },
  "cells": [
    {
      "cell_type": "code",
      "metadata": {
        "id": "EXlTYFIo8fGl"
      },
      "source": [
        "from google.colab import drive\n",
        "drive.mount('/content/drive')"
      ],
      "execution_count": null,
      "outputs": []
    },
    {
      "cell_type": "code",
      "metadata": {
        "id": "K56fttVCMMHo"
      },
      "source": [
        "!pip install unrar\n",
        "!unrar  x \"/content/drive/MyDrive/AIMedic_Moazed/Resources/EchoNet-Dynamic_Cases.rar\" -d ./"
      ],
      "execution_count": null,
      "outputs": []
    },
    {
      "cell_type": "code",
      "metadata": {
        "id": "sTnTxzBv8pdV"
      },
      "source": [
        "!git clone --branch ejection_fraction https://github.com/iamsoroush/echotrain.git\n",
        "!pip install -r echotrain/requirements_colab.txt"
      ],
      "execution_count": null,
      "outputs": []
    },
    {
      "cell_type": "code",
      "metadata": {
        "id": "2hn7-ED9BOCh"
      },
      "source": [
        "from echotrain.utils.handling_yaml import load_config_file\n",
        "from echotrain.model.ejection_fraction.ejection_fraction_estimation import EFEstimation\n",
        "from echotrain.evaluation.evaluator_ef import EFEvaluation\n",
        "config_path = \"/content/echotrain/config/config_example.yaml\"\n",
        "config = load_config_file(config_path)\n",
        "ef_es = EFEstimation()\n",
        "ef_ev = EFEvaluation(config)"
      ],
      "execution_count": 1,
      "outputs": []
    },
    {
      "cell_type": "code",
      "metadata": {
        "id": "xAqA2rZ7ZM-y"
      },
      "source": [
        "model = ef_es.load_model('/content/gbr_test.sav')"
      ],
      "execution_count": null,
      "outputs": []
    },
    {
      "cell_type": "code",
      "metadata": {
        "id": "QaCRQ9kmE57w"
      },
      "source": [
        "x_train , y_train = ef_ev.data_for_ftov('train')\n",
        "x_val , y_val = ef_ev.data_for_ftov('val')"
      ],
      "execution_count": 2,
      "outputs": []
    },
    {
      "cell_type": "code",
      "metadata": {
        "colab": {
          "base_uri": "https://localhost:8080/"
        },
        "id": "0A6VhXf9MzSi",
        "outputId": "601b0a9f-1201-4df6-bc8e-56b8be841f2d"
      },
      "source": [
        "x_train.shape"
      ],
      "execution_count": 3,
      "outputs": [
        {
          "output_type": "execute_result",
          "data": {
            "text/plain": [
              "(14920, 112, 112)"
            ]
          },
          "metadata": {},
          "execution_count": 3
        }
      ]
    },
    {
      "cell_type": "code",
      "metadata": {
        "colab": {
          "base_uri": "https://localhost:8080/"
        },
        "id": "LUqxzdf-M3x4",
        "outputId": "26590b3b-b7a5-4dd8-c1cd-daddef32b4c5"
      },
      "source": [
        "x_val.shape"
      ],
      "execution_count": 4,
      "outputs": [
        {
          "output_type": "execute_result",
          "data": {
            "text/plain": [
              "(2576, 112, 112)"
            ]
          },
          "metadata": {},
          "execution_count": 4
        }
      ]
    },
    {
      "cell_type": "code",
      "metadata": {
        "id": "XXnaG8s1J7BQ"
      },
      "source": [
        "import numpy as np\n",
        "x_train_rp = []\n",
        "for frame in x_train:\n",
        "  rp = []\n",
        "  rp.append(ef_es.frame_to_rp(frame))\n",
        "  x_train_rp.append(rp)\n",
        "x_train = np.array(x_train_rp).reshape(-1, 6)\n",
        "x_val_rp = []\n",
        "for frame in x_val:\n",
        "  rp = []\n",
        "  rp.append(ef_es.frame_to_rp(frame))\n",
        "  x_val_rp.append(rp)\n",
        "x_val = np.array(x_val_rp).reshape(-1, 6)"
      ],
      "execution_count": 5,
      "outputs": []
    },
    {
      "cell_type": "code",
      "metadata": {
        "colab": {
          "base_uri": "https://localhost:8080/"
        },
        "id": "fopZSVp5D6T2",
        "outputId": "4ff7e88f-0339-4839-f441-0dabc6856ad4"
      },
      "source": [
        "from sklearn.svm import SVR\n",
        "from sklearn.ensemble import RandomForestRegressor\n",
        "from sklearn.neighbors import KNeighborsRegressor\n",
        "from sklearn.ensemble import GradientBoostingRegressor\n",
        "from sklearn.tree import DecisionTreeRegressor\n",
        "from sklearn.linear_model import LinearRegression\n",
        "from sklearn.neural_network import MLPRegressor\n",
        "\n",
        "mlp = MLPRegressor()\n",
        "lr=LinearRegression()\n",
        "dtr = DecisionTreeRegressor()\n",
        "gbr = GradientBoostingRegressor(n_estimators=30)\n",
        "knn = KNeighborsRegressor()\n",
        "randomforest=RandomForestRegressor(n_estimators = 150)\n",
        "svr=SVR(kernel='rbf')\n",
        "gbr.fit(x_train,y_train)"
      ],
      "execution_count": 7,
      "outputs": [
        {
          "output_type": "execute_result",
          "data": {
            "text/plain": [
              "GradientBoostingRegressor(alpha=0.9, ccp_alpha=0.0, criterion='friedman_mse',\n",
              "                          init=None, learning_rate=0.1, loss='ls', max_depth=3,\n",
              "                          max_features=None, max_leaf_nodes=None,\n",
              "                          min_impurity_decrease=0.0, min_impurity_split=None,\n",
              "                          min_samples_leaf=1, min_samples_split=2,\n",
              "                          min_weight_fraction_leaf=0.0, n_estimators=30,\n",
              "                          n_iter_no_change=None, presort='deprecated',\n",
              "                          random_state=None, subsample=1.0, tol=0.0001,\n",
              "                          validation_fraction=0.1, verbose=0, warm_start=False)"
            ]
          },
          "metadata": {},
          "execution_count": 7
        }
      ]
    },
    {
      "cell_type": "code",
      "metadata": {
        "colab": {
          "base_uri": "https://localhost:8080/"
        },
        "id": "q9yRWoNr0Cwt",
        "outputId": "54f037a7-b119-4b43-b56f-fe55f89d4803"
      },
      "source": [
        "gbr.score(x_val,y_val)"
      ],
      "execution_count": 8,
      "outputs": [
        {
          "output_type": "execute_result",
          "data": {
            "text/plain": [
              "0.5652189661181253"
            ]
          },
          "metadata": {},
          "execution_count": 8
        }
      ]
    },
    {
      "cell_type": "code",
      "metadata": {
        "id": "rs29x59TrDKc",
        "colab": {
          "base_uri": "https://localhost:8080/"
        },
        "outputId": "716b7ecc-6e50-4b5d-f9bb-e51650577c35"
      },
      "source": [
        "ef_ev.evaluation_of_ef_model(gbr)"
      ],
      "execution_count": 9,
      "outputs": [
        {
          "output_type": "stream",
          "name": "stderr",
          "text": [
            "/content/echotrain/evaluation/evaluator_ef.py:105: UserWarning: Boolean Series key will be reindexed to match DataFrame index.\n",
            "  es_x_path = DF[DF['case_id'] == case][DF['stage'] == 'ES']['image_path'].astype('string')\n",
            "/content/echotrain/evaluation/evaluator_ef.py:106: UserWarning: Boolean Series key will be reindexed to match DataFrame index.\n",
            "  ed_x_path = DF[DF['case_id'] == case][DF['stage'] == 'ED']['image_path'].astype('string')\n",
            "/content/echotrain/evaluation/evaluator_ef.py:107: UserWarning: Boolean Series key will be reindexed to match DataFrame index.\n",
            "  es_y_path = DF[DF['case_id'] == case][DF['stage'] == 'ES']['label_path'].astype('string')\n",
            "/content/echotrain/evaluation/evaluator_ef.py:108: UserWarning: Boolean Series key will be reindexed to match DataFrame index.\n",
            "  ed_y_path = DF[DF['case_id'] == case][DF['stage'] == 'ED']['label_path'].astype('string')\n",
            "/content/echotrain/evaluation/evaluator_ef.py:109: UserWarning: Boolean Series key will be reindexed to match DataFrame index.\n",
            "  ef = DF[DF['case_id'] == case][DF['stage'] == 'ED']['lv_ef'].astype('float')\n"
          ]
        },
        {
          "output_type": "execute_result",
          "data": {
            "text/plain": [
              "{'mean_absoulute_error_validation': 12.83871487919965,\n",
              " 'mean_squared_error_validation': 269.87871049228244}"
            ]
          },
          "metadata": {},
          "execution_count": 9
        }
      ]
    },
    {
      "cell_type": "code",
      "metadata": {
        "id": "UWGITOV57T8S"
      },
      "source": [
        "from echotrain.evaluation.evaluator_ef import EFEvaluation\n",
        "ef_ev = EFEvaluation(config) \n",
        "ef_ev.save_model(gbr,'gbr_test.sav')"
      ],
      "execution_count": null,
      "outputs": []
    },
    {
      "cell_type": "code",
      "metadata": {
        "id": "0haJy1OU1V20"
      },
      "source": [
        ""
      ],
      "execution_count": null,
      "outputs": []
    }
  ]
}